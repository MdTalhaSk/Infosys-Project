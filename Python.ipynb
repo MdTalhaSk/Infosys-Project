{
  "nbformat": 4,
  "nbformat_minor": 0,
  "metadata": {
    "colab": {
      "provenance": [],
      "toc_visible": true,
      "authorship_tag": "ABX9TyNvjusM0u11edLXCZNklpag",
      "include_colab_link": true
    },
    "kernelspec": {
      "name": "python3",
      "display_name": "Python 3"
    },
    "language_info": {
      "name": "python"
    }
  },
  "cells": [
    {
      "cell_type": "markdown",
      "metadata": {
        "id": "view-in-github",
        "colab_type": "text"
      },
      "source": [
        "<a href=\"https://colab.research.google.com/github/11priyanshu/INFOSYS-SPRINGBOARD-PROJECT/blob/main/Python.ipynb\" target=\"_parent\"><img src=\"https://colab.research.google.com/assets/colab-badge.svg\" alt=\"Open In Colab\"/></a>"
      ]
    },
    {
      "cell_type": "markdown",
      "source": [],
      "metadata": {
        "id": "yKl4x0mCCEdB"
      }
    },
    {
      "cell_type": "markdown",
      "source": [
        "**PYTHON**\n"
      ],
      "metadata": {
        "id": "WMIHc3U-CGhZ"
      }
    },
    {
      "cell_type": "markdown",
      "source": [
        "Python is a versatile, high-level, interpreted programming language known for its simplicity and readability. It supports multiple programming paradigms, such as procedural, object-oriented, and functional programming. Python is widely used in web development, data analysis, artificial intelligence, machine learning, scientific computing, automation, and more.\n",
        "\n",
        "Key Features of Python\n",
        "Easy to Learn and Use: Python has a simple syntax similar to English, making it beginner-friendly.\n",
        "Interpreted: Python executes code line by line, allowing for easy debugging.\n",
        "Dynamically Typed: Variable types are determined at runtime.\n",
        "Extensive Libraries: Python has rich libraries like NumPy, Pandas, TensorFlow, and Flask for various tasks.\n",
        "Cross-Platform: Code written in Python runs on various operating systems without modification.\n",
        "\n",
        "EX:-"
      ],
      "metadata": {
        "id": "YKyUH_XICSmd"
      }
    },
    {
      "cell_type": "code",
      "source": [
        "# Simple program to print a message\n",
        "print(\"Hello, World!\")\n"
      ],
      "metadata": {
        "id": "qXT0cF5tCnnL"
      },
      "execution_count": null,
      "outputs": []
    },
    {
      "cell_type": "markdown",
      "source": [
        "LIST IN **PYTHON**"
      ],
      "metadata": {
        "id": "jQtDdFEKCzqO"
      }
    },
    {
      "cell_type": "markdown",
      "source": [
        "A list is a mutable, ordered collection of items that can store multiple data types. It is one of the most versatile and commonly used data structures in Python. Lists are created by placing elements inside square brackets [ ], separated by commas.\n",
        "\n",
        "Key Features of a List\n",
        "Ordered: Items in a list maintain their insertion order.\n",
        "Mutable: You can add, remove, or modify items after the list is created.\n",
        "Heterogeneous: A list can contain elements of different data types.\n",
        "Indexable: Access elements using their index (starting from 0).\n",
        "\n",
        "EX:-\n"
      ],
      "metadata": {
        "id": "zYs9vpiPD3lI"
      }
    },
    {
      "cell_type": "code",
      "source": [
        "students = [\"John\", \"Emma\", \"Sophia\"]\n",
        "students.append(\"Liam\")\n",
        "students[1] = \"Olivia\"\n",
        "print(students)"
      ],
      "metadata": {
        "id": "fDQcCVQVEJAe"
      },
      "execution_count": null,
      "outputs": []
    },
    {
      "cell_type": "markdown",
      "source": [
        "**TUPPLE IN PYTHON**"
      ],
      "metadata": {
        "id": "raaDbXo_EYKZ"
      }
    },
    {
      "cell_type": "markdown",
      "source": [
        "A tuple is an ordered, immutable collection of elements. Like lists, tuples can store elements of different data types, but once created, their content cannot be changed. Tuples are particularly useful for representing fixed collections of items.\n",
        "\n",
        "Key Features of Tuples\n",
        "Ordered: Items in a tuple retain their order of insertion.\n",
        "Immutable: The elements cannot be changed, added, or removed after the tuple is created.\n",
        "Heterogeneous: Tuples can store elements of different data types.\n",
        "Hashable: Tuples can be used as keys in dictionaries if they contain hashable elements."
      ],
      "metadata": {
        "id": "SLJgUQGNFMB_"
      }
    },
    {
      "cell_type": "code",
      "source": [
        "# Creating a tuple\n",
        "example_tuple = (1, \"hello\", 3.14, True)\n",
        "\n",
        "# Accessing elements\n",
        "print(example_tuple[0])\n",
        "print(example_tuple[-1])\n"
      ],
      "metadata": {
        "id": "-Ikeu4LkFO_T"
      },
      "execution_count": null,
      "outputs": []
    },
    {
      "cell_type": "markdown",
      "source": [
        "**Object-Oriented Programming (OOP) in Python**"
      ],
      "metadata": {
        "id": "s3mxrllTFbPa"
      }
    },
    {
      "cell_type": "markdown",
      "source": [
        "Object-Oriented Programming (OOP) is a programming paradigm that uses objects and classes to structure and organize code. It focuses on representing real-world entities and their interactions.\n",
        "\n",
        "Benefits of OOP\n",
        "Modularity: Code can be organized into reusable classes.\n",
        "Reusability: Through inheritance, classes can reuse existing code.\n",
        "Maintainability: Encapsulation allows for clear separation of concerns.\n",
        "Flexibility: Polymorphism makes it easy to extend and modify code.\n"
      ],
      "metadata": {
        "id": "mqqiwEq7Fvsz"
      }
    },
    {
      "cell_type": "code",
      "source": [
        "class Person:\n",
        "    def __init__(self, name, age):\n",
        "        self.name = name\n",
        "        self.age = age\n",
        "\n",
        "    def introduce(self):\n",
        "        print(f\"Hi, I'm {self.name} and I'm {self.age} years old.\")\n",
        "\n",
        "class Student(Person):\n",
        "    def __init__(self, name, age, grade):\n",
        "        super().__init__(name, age)\n",
        "        self.grade = grade\n",
        "\n",
        "    def introduce(self):\n",
        "        super().introduce()\n",
        "        print(f\"I'm a student and my grade is {self.grade}.\")\n",
        "\n",
        "class Teacher(Person):\n",
        "    def __init__(self, name, age, subject):\n",
        "        super().__init__(name, age)\n",
        "        self.subject = subject\n",
        "\n",
        "    def introduce(self):\n",
        "        super().introduce()\n",
        "        print(f\"I'm a teacher and I teach {self.subject}.\")\n",
        "\n",
        "# Create objects\n",
        "student = Student(\"Priyanshu\", 20, \"A+\")\n",
        "teacher = Teacher(\"Mr. Sharma\", 45, \"Mathematics\")\n",
        "\n",
        "student.introduce()\n",
        "teacher.introduce()\n",
        "\n"
      ],
      "metadata": {
        "id": "fe4NmkVqF-tI"
      },
      "execution_count": null,
      "outputs": []
    },
    {
      "cell_type": "markdown",
      "source": [
        "**Encapsulation**"
      ],
      "metadata": {
        "id": "iEzs2QO0GTXh"
      }
    },
    {
      "cell_type": "markdown",
      "source": [
        "The bundling of data (attributes) and methods into a single unit (class) and restricting direct access to some of the object's components using access specifiers."
      ],
      "metadata": {
        "id": "RaQSlJM0GV-z"
      }
    },
    {
      "cell_type": "code",
      "source": [
        "class BankAccount:\n",
        "    def __init__(self, balance):\n",
        "        self.__balance = balance\n",
        "\n",
        "    def deposit(self, amount):\n",
        "        self.__balance += amount\n",
        "\n",
        "    def withdraw(self, amount):\n",
        "        if amount <= self.__balance:\n",
        "            self.__balance -= amount\n",
        "        else:\n",
        "            print(\"Insufficient funds.\")\n",
        "\n",
        "    def get_balance(self):\n",
        "        return self.__balance\n",
        "\n",
        "account = BankAccount(1000)\n",
        "account.deposit(500)\n",
        "print(account.get_balance())\n"
      ],
      "metadata": {
        "id": "5Qvf2MPCGaiT"
      },
      "execution_count": null,
      "outputs": []
    },
    {
      "cell_type": "markdown",
      "source": [
        "**Abstraction**"
      ],
      "metadata": {
        "id": "Q0hyZDboGiAP"
      }
    },
    {
      "cell_type": "markdown",
      "source": [
        "Hiding the complex implementation details and exposing only the essential features. This is often achieved using abstract classes or interfaces."
      ],
      "metadata": {
        "id": "qyC92JCgGmg-"
      }
    },
    {
      "cell_type": "code",
      "source": [
        "from abc import ABC, abstractmethod\n",
        "\n",
        "class Shape(ABC):\n",
        "    @abstractmethod\n",
        "    def area(self):\n",
        "        pass\n",
        "\n",
        "class Rectangle(Shape):\n",
        "    def __init__(self, length, width):\n",
        "        self.length = length\n",
        "        self.width = width\n",
        "\n",
        "    def area(self):\n",
        "        return self.length * self.width\n",
        "\n",
        "rect = Rectangle(10, 5)\n",
        "print(rect.area())\n"
      ],
      "metadata": {
        "id": "2JFR5SvUGpOs"
      },
      "execution_count": null,
      "outputs": []
    },
    {
      "cell_type": "markdown",
      "source": [
        "**Sets in Python**"
      ],
      "metadata": {
        "id": "bD7OuyM8ImZx"
      }
    },
    {
      "cell_type": "markdown",
      "source": [
        "Key Features of Sets\n",
        "Unordered: The elements in a set do not maintain any particular order.\n",
        "Unique Elements: Sets automatically remove duplicate values.\n",
        "Mutable: You can add or remove elements from a set.\n",
        "Non-Indexable: Elements in a set cannot be accessed using an index because they are unordered."
      ],
      "metadata": {
        "id": "TvMTpRNlIqjX"
      }
    },
    {
      "cell_type": "code",
      "source": [
        "set1 = {1, 2, 3}\n",
        "set2 = {2, 3, 4}\n",
        "if set1 & set2:\n",
        "    print(\"There are common elements.\")\n",
        "else:\n",
        "    print(\"No common elements.\")\n"
      ],
      "metadata": {
        "id": "38AHNq16I-SC"
      },
      "execution_count": null,
      "outputs": []
    },
    {
      "cell_type": "markdown",
      "source": [
        "\n",
        "**Dictionary**"
      ],
      "metadata": {
        "id": "SiWNWuc1JJrp"
      }
    },
    {
      "cell_type": "markdown",
      "source": [
        "A dictionary in Python is an unordered, mutable, and iterable collection of key-value pairs. It is one of the most versatile data types in Python, allowing you to store and manage data efficiently.\n",
        "\n",
        "Key Features of a Dictionary\n",
        "Key-Value Pairs: Data is stored in pairs of key: value.\n",
        "Unique Keys: Keys must be unique, but values can be duplicated.\n",
        "Mutable: You can add, modify, or delete key-value pairs.\n",
        "Unordered: As of Python 3.7, dictionaries maintain insertion order, but this is not guaranteed in earlier versions.\n",
        "Key Requirements: Keys must be immutable (e.g., strings, numbers, or tuples with immutable elements)."
      ],
      "metadata": {
        "id": "ObsFwzrdJTxu"
      }
    },
    {
      "cell_type": "code",
      "source": [
        "my_dict = {\"name\": \"Priyanshu\", \"age\": 20, \"course\": \"ECE\"}\n",
        "for key, value in my_dict.items():\n",
        "    print(f\"{key}: {value}\")"
      ],
      "metadata": {
        "id": "TPFuNqM2JpLX"
      },
      "execution_count": null,
      "outputs": []
    }
  ]
}