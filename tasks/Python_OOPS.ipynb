{
  "nbformat": 4,
  "nbformat_minor": 0,
  "metadata": {
    "colab": {
      "provenance": [],
      "authorship_tag": "ABX9TyMzoxIPcRJDDqW+HLg9srzC",
      "include_colab_link": true
    },
    "kernelspec": {
      "name": "python3",
      "display_name": "Python 3"
    },
    "language_info": {
      "name": "python"
    }
  },
  "cells": [
    {
      "cell_type": "markdown",
      "metadata": {
        "id": "view-in-github",
        "colab_type": "text"
      },
      "source": [
        "<a href=\"https://colab.research.google.com/github/MdTalhaSk/Infosys-Project/blob/main/Python_OOPS.ipynb\" target=\"_parent\"><img src=\"https://colab.research.google.com/assets/colab-badge.svg\" alt=\"Open In Colab\"/></a>"
      ]
    },
    {
      "cell_type": "markdown",
      "source": [
        "**Object-Oriented Programming (OOP)**\n",
        "\n",
        "Object-Oriented Programming (OOP) is a programming paradigm that organizes software\n",
        "design around data, or objects, rather than functions and logic. It enables developers to\n",
        "create modular, reusable code by defining the structure and behavior of data using objects.\n",
        "\n",
        "The need for Object-Oriented Programming (OOP) arises from the complexity and scale of\n",
        "modern software development. As programs grow larger and more complex, the limitations of\n",
        "procedural programming become apparent. OOP addresses these limitations by providing a\n",
        "more structured and modular approach to software design."
      ],
      "metadata": {
        "id": "-EdSwnPRrXV-"
      }
    },
    {
      "cell_type": "markdown",
      "source": [
        "**Class:**\n",
        "\n",
        "A class is a blueprint for creating objects.\n",
        "It defines attributes (data) and methods (functions) that objects created from the class can use.\n",
        "\n",
        "**Object:**\n",
        "\n",
        "An object is an instance of a class. It represents a specific entity created using the class."
      ],
      "metadata": {
        "id": "uV4Rehyfsyey"
      }
    },
    {
      "cell_type": "code",
      "source": [
        "# Define a class\n",
        "class Student:\n",
        "    def __init__(self, name, age):  # Constructor to initialize attributes\n",
        "        self.name = name\n",
        "        self.age = age\n",
        "\n",
        "    def introduce(self):  # Method to display information\n",
        "        print(f\"My name is {self.name} and I am {self.age} years old.\")\n",
        "\n",
        "# Create objects (instances of the class)\n",
        "student1 = Student(\"Alice\", 20)  # Object 1\n",
        "student2 = Student(\"Bob\", 22)    # Object 2\n",
        "\n",
        "# Use the object\n",
        "student1.introduce()  # Output: My name is Alice and I am 20 years old.\n",
        "student2.introduce()  # Output: My name is Bob and I am 22 years old.\n"
      ],
      "metadata": {
        "id": "H5qaOhcCs9fr"
      },
      "execution_count": null,
      "outputs": []
    },
    {
      "cell_type": "markdown",
      "source": [
        "**Constructor in Python:**\n",
        "\n",
        "A constructor is a special method used to initialize an object when it is created.\n",
        "\n",
        "In Python, the constructor method is named __init__().\n",
        "\n",
        "It is automatically called when a new object of a class is instantiated."
      ],
      "metadata": {
        "id": "USoBJ3gKs_Rj"
      }
    },
    {
      "cell_type": "code",
      "source": [
        "class Car:\n",
        "    def __init__(self, brand, model):  # Constructor method\n",
        "        self.brand = brand  # Initialize attributes\n",
        "        self.model = model\n",
        "\n",
        "    def display_info(self):\n",
        "        print(f\"Car Brand: {self.brand}, Model: {self.model}\")\n",
        "\n",
        "# Creating objects\n",
        "car1 = Car(\"Toyota\", \"Corolla\")  # Constructor automatically initializes\n",
        "car2 = Car(\"Honda\", \"Civic\")\n",
        "\n",
        "# Using the objects\n",
        "car1.display_info()  # Output: Car Brand: Toyota, Model: Corolla\n",
        "car2.display_info()  # Output: Car Brand: Honda, Model: Civic\n"
      ],
      "metadata": {
        "id": "CBZlcRRRtKfK"
      },
      "execution_count": null,
      "outputs": []
    },
    {
      "cell_type": "markdown",
      "source": [
        "**What is a Class Diagram?**\n",
        "\n",
        "A class diagram is a type of UML (Unified Modeling Language) diagram that visually represents the structure of a class, including:\n",
        "\n",
        "**Attributes (data members):** Represent the properties or data of a class.\n",
        "\n",
        "**Methods (functions):** Represent the behaviors or actions of a class.\n",
        "\n",
        "**Relationships:** Shows how classes are connected (e.g., inheritance, association)."
      ],
      "metadata": {
        "id": "xcczVAmjtNxa"
      }
    },
    {
      "cell_type": "code",
      "source": [
        "class Student:\n",
        "    def __init__(self, name, age, student_id):\n",
        "        self.name = name\n",
        "        self.age = age\n",
        "        self.student_id = student_id\n",
        "\n",
        "    def introduce(self):\n",
        "        return f\"My name is {self.name} and I am {self.age} years old.\"\n",
        "\n",
        "    def get_student_id(self):\n",
        "        return self.student_id\n"
      ],
      "metadata": {
        "id": "lMK7dpirta15"
      },
      "execution_count": null,
      "outputs": []
    },
    {
      "cell_type": "markdown",
      "source": [
        "**What is Encapsulation in Python?**\n",
        "\n",
        "Encapsulation is the concept of bundling data (attributes) and methods (functions) together within a class.\n",
        "It restricts direct access to the internal state of the object, allowing controlled interaction via methods.\n",
        "\n",
        "In Python, encapsulation is implemented using access modifiers:\n",
        "\n",
        "**Public (name)**: Accessible everywhere.\n",
        "\n",
        "**Protected (_name):** Suggests limited access, but still accessible.\n",
        "\n",
        "**Private (__name):** Not directly accessible outside the class."
      ],
      "metadata": {
        "id": "FLerWdpGtcOR"
      }
    },
    {
      "cell_type": "code",
      "source": [
        "class BankAccount:\n",
        "    def __init__(self, account_holder, balance):\n",
        "        self.account_holder = account_holder  # Public attribute\n",
        "        self.__balance = balance  # Private attribute\n",
        "\n",
        "    # Public method to view balance\n",
        "    def get_balance(self):\n",
        "        return f\"Account balance: {self.__balance}\"\n",
        "\n",
        "    # Public method to update balance\n",
        "    def deposit(self, amount):\n",
        "        if amount > 0:\n",
        "            self.__balance += amount\n",
        "            return f\"Deposited {amount}. New balance: {self.__balance}\"\n",
        "        return \"Invalid deposit amount!\"\n",
        "\n",
        "    def withdraw(self, amount):\n",
        "        if 0 < amount <= self.__balance:\n",
        "            self.__balance -= amount\n",
        "            return f\"Withdrawn {amount}. New balance: {self.__balance}\"\n",
        "        return \"Insufficient funds or invalid amount!\"\n",
        "\n",
        "# Create an object of BankAccount\n",
        "account = BankAccount(\"Alice\", 1000)\n",
        "\n",
        "# Access balance using methods\n",
        "print(account.get_balance())  # Output: Account balance: 1000\n",
        "print(account.deposit(500))   # Output: Deposited 500. New balance: 1500\n",
        "print(account.withdraw(200))  # Output: Withdrawn 200. New balance: 1300\n",
        "\n",
        "# Attempting direct access (not recommended)\n",
        "# print(account.__balance)  # AttributeError: 'BankAccount' object has no attribute '__balance'\n"
      ],
      "metadata": {
        "id": "wI4U-k-ttpxJ"
      },
      "execution_count": null,
      "outputs": []
    },
    {
      "cell_type": "markdown",
      "source": [
        "**What is a Static Method in Python?**\n",
        "\n",
        "A static method is a method that belongs to a class rather than an instance of a class.\n",
        "It does not access or modify the class or instance-specific data (no self or cls parameters).\n",
        "It is used for utility or helper methods that don’t depend on class or instance attributes.\n",
        "\n",
        "In Python, static methods are defined using the @staticmethod decorator."
      ],
      "metadata": {
        "id": "wiFF2EwEtrSh"
      }
    },
    {
      "cell_type": "code",
      "source": [
        "class MathOperations:\n",
        "    @staticmethod\n",
        "    def add(a, b):\n",
        "        return a + b\n",
        "\n",
        "    @staticmethod\n",
        "    def multiply(a, b):\n",
        "        return a * b\n",
        "\n",
        "# Call static methods using the class name\n",
        "print(MathOperations.add(5, 3))        # Output: 8\n",
        "print(MathOperations.multiply(4, 6))  # Output: 24\n",
        "\n",
        "# Call static methods using an instance (not recommended but possible)\n",
        "math_ops = MathOperations()\n",
        "print(math_ops.add(10, 20))           # Output: 30\n"
      ],
      "metadata": {
        "id": "nIga-vH0t0rR"
      },
      "execution_count": null,
      "outputs": []
    },
    {
      "cell_type": "markdown",
      "source": [
        "**Relationships in Object-Oriented Programming (OOP)**\n",
        "\n",
        "In OOP, relationships describe how classes are connected to each other. The three main types of relationships between classes are:\n",
        "\n",
        "**1. Association:**\n",
        "\n",
        "A general relationship between two classes, where one class uses or interacts with the other.\n",
        "It can be unidirectional (one class interacts with the other) or bidirectional (both interact)."
      ],
      "metadata": {
        "id": "9ws-5yGnt2QR"
      }
    },
    {
      "cell_type": "code",
      "source": [
        "class Teacher:\n",
        "    def __init__(self, name):\n",
        "        self.name = name\n",
        "\n",
        "class Course:\n",
        "    def __init__(self, title, teacher):\n",
        "        self.title = title\n",
        "        self.teacher = teacher  # Association\n",
        "\n",
        "teacher1 = Teacher(\"Dr. Smith\")\n",
        "course1 = Course(\"Mathematics\", teacher1)\n",
        "\n",
        "print(course1.teacher.name)  # Output: Dr. Smith\n"
      ],
      "metadata": {
        "id": "2uywzkwzt-ep"
      },
      "execution_count": null,
      "outputs": []
    },
    {
      "cell_type": "markdown",
      "source": [
        "**2. Aggregation (Has-a relationship):**\n",
        "\n",
        "A weak relationship where one class contains an object of another class, but they can exist independently.\n",
        "The lifespan of the contained object does not depend on the container.\n",
        "\n",
        "**Example:**"
      ],
      "metadata": {
        "id": "XoQmzD-ft_so"
      }
    },
    {
      "cell_type": "code",
      "source": [
        "class Engine:\n",
        "    def __init__(self, horsepower):\n",
        "        self.horsepower = horsepower\n",
        "\n",
        "class Car:\n",
        "    def __init__(self, brand, engine):\n",
        "        self.brand = brand\n",
        "        self.engine = engine  # Aggregation\n",
        "\n",
        "engine1 = Engine(150)\n",
        "car1 = Car(\"Toyota\", engine1)\n",
        "\n",
        "print(car1.engine.horsepower)  # Output: 150\n"
      ],
      "metadata": {
        "id": "ZTDymsrduDqQ"
      },
      "execution_count": null,
      "outputs": []
    },
    {
      "cell_type": "markdown",
      "source": [
        "**3. Composition (Strong Has-a relationship):**\n",
        "\n",
        "A strong relationship where one class contains an object of another class, and they are dependent on each other.\n",
        "If the container object is destroyed, the contained object is also destroyed.\n",
        "\n",
        "**Example:**"
      ],
      "metadata": {
        "id": "7iYK2i0kuE-Q"
      }
    },
    {
      "cell_type": "code",
      "source": [
        "class Battery:\n",
        "    def __init__(self, capacity):\n",
        "        self.capacity = capacity\n",
        "\n",
        "class Laptop:\n",
        "    def __init__(self, brand, battery_capacity):\n",
        "        self.brand = brand\n",
        "        self.battery = Battery(battery_capacity)  # Composition\n",
        "\n",
        "laptop1 = Laptop(\"Dell\", 5000)\n",
        "\n",
        "print(laptop1.battery.capacity)  # Output: 5000\n"
      ],
      "metadata": {
        "id": "QKEsFpENuIvY"
      },
      "execution_count": null,
      "outputs": []
    },
    {
      "cell_type": "markdown",
      "source": [
        "**4. Inheritance (Is-a relationship):**\n",
        "\n",
        "A relationship where one class derives from another class, inheriting its attributes and methods.\n",
        "Represents a parent-child relationship.\n",
        "\n",
        "**Example:**"
      ],
      "metadata": {
        "id": "G5xgUSNUuJ-x"
      }
    },
    {
      "cell_type": "code",
      "source": [
        "class Animal:\n",
        "    def eat(self):\n",
        "        print(\"This animal eats food.\")\n",
        "\n",
        "class Dog(Animal):  # Dog inherits from Animal\n",
        "    def bark(self):\n",
        "        print(\"Dog barks!\")\n",
        "\n",
        "dog1 = Dog()\n",
        "dog1.eat()   # Output: This animal eats food.\n",
        "dog1.bark()  # Output: Dog barks!\n"
      ],
      "metadata": {
        "id": "479g4V8GuNYA"
      },
      "execution_count": null,
      "outputs": []
    },
    {
      "cell_type": "markdown",
      "source": [
        "**What is Inheritance in Python?**\n",
        "\n",
        "Inheritance is a fundamental concept in Object-Oriented Programming (OOP) where a class (child or derived class) inherits attributes and methods from another class (parent or base class). It promotes code reuse and helps in building a hierarchy of classes.\n",
        "\n",
        "**Types of Inheritance:**\n",
        "\n",
        "**Single Inheritance:** One child class inherits from one parent class.\n",
        "\n",
        "**Multiple Inheritance:** One child class inherits from multiple parent classes.\n",
        "\n",
        "**Multilevel Inheritance:** A class inherits from a class that is already a child of another class.\n",
        "\n",
        "**Hierarchical Inheritance:** Multiple child classes inherit from a single parent class.\n",
        "\n",
        "**Hybrid Inheritance:** A combination of two or more types of inheritance."
      ],
      "metadata": {
        "id": "nr1FkEB8uXw4"
      }
    },
    {
      "cell_type": "code",
      "source": [
        "class Parent:\n",
        "    # Parent class\n",
        "    pass\n",
        "\n",
        "class Child(Parent):\n",
        "    # Child class inherits Parent\n",
        "    pass\n"
      ],
      "metadata": {
        "id": "N4ox11pyulzn"
      },
      "execution_count": null,
      "outputs": []
    },
    {
      "cell_type": "markdown",
      "source": [],
      "metadata": {
        "id": "xzUxDYn4uoNX"
      }
    }
  ]
}
